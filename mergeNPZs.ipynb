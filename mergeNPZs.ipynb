{
 "cells": [
  {
   "cell_type": "code",
   "execution_count": null,
   "metadata": {},
   "outputs": [
    {
     "name": "stdout",
     "output_type": "stream",
     "text": [
      "Number of rows: 4500\n"
     ]
    }
   ],
   "source": [
    "import numpy as np\n",
    "\n",
    "# Load the .npz file\n",
    "data = np.load(r\"\\dataNPZ\\mergedData.npz\")\n",
    "\n",
    "# Assuming there's only one array in the .npz file, get its shape\n",
    "array = data['pixel_arrays']  # You can replace 'arr_0' with the correct key if it's different\n",
    "\n",
    "# Get the number of rows (first dimension)\n",
    "num_rows = array.shape[0]\n",
    "\n",
    "print(f'Number of rows: {num_rows}')"
   ]
  },
  {
   "cell_type": "code",
   "execution_count": null,
   "metadata": {},
   "outputs": [
    {
     "name": "stdout",
     "output_type": "stream",
     "text": [
      "Merged data saved as 'merged_data.npz'\n"
     ]
    }
   ],
   "source": [
    "import numpy as np\n",
    "import glob\n",
    "\n",
    "# List of .npz files to merge\n",
    "files = glob.glob(r\"dataNPZ\\*.npz\")  # Adjust the path as needed\n",
    "\n",
    "# Initialize a dictionary to store merged data\n",
    "merged_data = {}\n",
    "\n",
    "# Load and merge data from each .npz file\n",
    "for file in files:\n",
    "    data = np.load(file)\n",
    "    for key in data:\n",
    "        if key not in merged_data:\n",
    "            merged_data[key] = [data[key]]\n",
    "        else:\n",
    "            merged_data[key].append(data[key])\n",
    "\n",
    "# Concatenate arrays for each key\n",
    "for key in merged_data:\n",
    "    merged_data[key] = np.concatenate(merged_data[key], axis=0)\n",
    "\n",
    "# Save the merged result into a new .npz file\n",
    "np.savez(r\"dataNPZ\\mergedData.npz\", **merged_data)\n",
    "\n",
    "print(\"Merged data saved as 'merged_data.npz'\")\n"
   ]
  },
  {
   "cell_type": "code",
   "execution_count": null,
   "metadata": {},
   "outputs": [],
   "source": []
  }
 ],
 "metadata": {
  "kernelspec": {
   "display_name": "Python 3",
   "language": "python",
   "name": "python3"
  },
  "language_info": {
   "codemirror_mode": {
    "name": "ipython",
    "version": 3
   },
   "file_extension": ".py",
   "mimetype": "text/x-python",
   "name": "python",
   "nbconvert_exporter": "python",
   "pygments_lexer": "ipython3",
   "version": "3.12.4"
  }
 },
 "nbformat": 4,
 "nbformat_minor": 2
}
